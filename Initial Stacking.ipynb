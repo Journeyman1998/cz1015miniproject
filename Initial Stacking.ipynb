{
 "cells": [
  {
   "cell_type": "code",
   "execution_count": 1,
   "metadata": {},
   "outputs": [],
   "source": [
    "import numpy as np\n",
    "import pandas as pd\n",
    "import time\n",
    "\n",
    "#helpful libraries\n",
    "from sklearn.metrics import f1_score\n",
    "from sklearn.preprocessing import RobustScaler\n",
    "from sklearn.model_selection import KFold\n",
    "\n",
    "#base models\n",
    "from sklearn.neural_network import MLPClassifier\n",
    "from sklearn.neighbors import KNeighborsClassifier\n",
    "from sklearn.ensemble import RandomForestClassifier\n",
    "from sklearn.linear_model import LogisticRegression\n",
    "\n"
   ]
  },
  {
   "cell_type": "code",
   "execution_count": 2,
   "metadata": {},
   "outputs": [],
   "source": [
    "cv = 5"
   ]
  },
  {
   "cell_type": "code",
   "execution_count": 3,
   "metadata": {},
   "outputs": [],
   "source": [
    "data = pd.read_csv('data/train_values.csv')\n",
    "label = pd.read_csv('data/train_labels.csv')\n",
    "test_values = pd.read_csv('data/test_values.csv')\n",
    "\n",
    "to_drop = ['geo_level_2_id', 'geo_level_3_id']\n",
    "\n",
    "to_enc = ['geo_level_1_id', 'foundation_type', 'roof_type', 'ground_floor_type', 'other_floor_type',\\\n",
    "          'plan_configuration', 'legal_ownership_status', 'land_surface_condition', 'position']\n",
    "\n",
    "num_col = ['age', 'area_percentage', 'height_percentage', 'count_families', 'count_floors_pre_eq']"
   ]
  },
  {
   "cell_type": "code",
   "execution_count": 4,
   "metadata": {},
   "outputs": [],
   "source": [
    "full_data = data.append(test_values).set_index(keys = 'building_id')\n",
    "full_data.drop(columns=to_drop, inplace=True)\n",
    "full_data = pd.get_dummies(full_data, prefix=to_enc, columns=to_enc)"
   ]
  },
  {
   "cell_type": "code",
   "execution_count": 5,
   "metadata": {},
   "outputs": [],
   "source": [
    "train_building_id = data['building_id']\n",
    "test_building_id = test_values['building_id']\n",
    "\n",
    "data = full_data.loc[train_building_id]\n",
    "test_values = full_data.loc[test_building_id]\n",
    "\n",
    "del(full_data) # save memory"
   ]
  },
  {
   "cell_type": "code",
   "execution_count": 6,
   "metadata": {},
   "outputs": [],
   "source": [
    "mlp = MLPClassifier(solver='sgd', activation='tanh', hidden_layer_sizes=(96, 40, 20, 10, 5), max_iter=300)\n",
    "rf = RandomForestClassifier(n_estimators=44, max_depth=11, max_features=0.8, \\\n",
    "                               max_leaf_nodes=42, min_samples_split=10, bootstrap=False)\n",
    "logreg = LogisticRegression(C=3, max_iter=300)\n",
    "neigh = KNeighborsClassifier(n_neighbors=30)\n",
    "\n",
    "meta = MLPClassifier(solver='sgd', activation='logistic', hidden_layer_sizes=(10,5), max_iter=300)"
   ]
  },
  {
   "cell_type": "code",
   "execution_count": 7,
   "metadata": {},
   "outputs": [],
   "source": [
    "building_id = label['building_id'].copy()\n",
    "label = label.set_index('building_id')\n",
    "df = data.join(label, on='building_id')"
   ]
  },
  {
   "cell_type": "code",
   "execution_count": 24,
   "metadata": {},
   "outputs": [
    {
     "name": "stdout",
     "output_type": "stream",
     "text": [
      "1 :\n"
     ]
    },
    {
     "name": "stderr",
     "output_type": "stream",
     "text": [
      "C:\\Users\\TNG\\Anaconda3\\lib\\site-packages\\sklearn\\neural_network\\multilayer_perceptron.py:566: ConvergenceWarning: Stochastic Optimizer: Maximum iterations (300) reached and the optimization hasn't converged yet.\n",
      "  % self.max_iter, ConvergenceWarning)\n"
     ]
    },
    {
     "name": "stdout",
     "output_type": "stream",
     "text": [
      "MLP Done\n",
      "RF Done\n"
     ]
    },
    {
     "name": "stderr",
     "output_type": "stream",
     "text": [
      "C:\\Users\\TNG\\Anaconda3\\lib\\site-packages\\sklearn\\linear_model\\logistic.py:432: FutureWarning: Default solver will be changed to 'lbfgs' in 0.22. Specify a solver to silence this warning.\n",
      "  FutureWarning)\n",
      "C:\\Users\\TNG\\Anaconda3\\lib\\site-packages\\sklearn\\linear_model\\logistic.py:469: FutureWarning: Default multi_class will be changed to 'auto' in 0.22. Specify the multi_class option to silence this warning.\n",
      "  \"this warning.\", FutureWarning)\n"
     ]
    },
    {
     "name": "stdout",
     "output_type": "stream",
     "text": [
      "LR Done\n",
      "KNN Done\n",
      "MLP F1:  0.6923696782486906\n",
      "RF F1:  0.6732027397785921\n",
      "LR F1:  0.6688091172464073\n",
      "KNN F1:  0.6847527867845974\n",
      "1  done, took  26.391796652475993  min\n",
      "**********************\n",
      "2 :\n"
     ]
    },
    {
     "name": "stderr",
     "output_type": "stream",
     "text": [
      "C:\\Users\\TNG\\Anaconda3\\lib\\site-packages\\sklearn\\neural_network\\multilayer_perceptron.py:566: ConvergenceWarning: Stochastic Optimizer: Maximum iterations (300) reached and the optimization hasn't converged yet.\n",
      "  % self.max_iter, ConvergenceWarning)\n"
     ]
    },
    {
     "name": "stdout",
     "output_type": "stream",
     "text": [
      "MLP Done\n",
      "RF Done\n"
     ]
    },
    {
     "name": "stderr",
     "output_type": "stream",
     "text": [
      "C:\\Users\\TNG\\Anaconda3\\lib\\site-packages\\sklearn\\linear_model\\logistic.py:432: FutureWarning: Default solver will be changed to 'lbfgs' in 0.22. Specify a solver to silence this warning.\n",
      "  FutureWarning)\n",
      "C:\\Users\\TNG\\Anaconda3\\lib\\site-packages\\sklearn\\linear_model\\logistic.py:469: FutureWarning: Default multi_class will be changed to 'auto' in 0.22. Specify the multi_class option to silence this warning.\n",
      "  \"this warning.\", FutureWarning)\n"
     ]
    },
    {
     "name": "stdout",
     "output_type": "stream",
     "text": [
      "LR Done\n",
      "KNN Done\n",
      "MLP F1:  0.6913852647735994\n",
      "RF F1:  0.6710475825019186\n",
      "LR F1:  0.6669992325402916\n",
      "KNN F1:  0.6819071373752879\n",
      "2  done, took  28.442806621392567  min\n",
      "**********************\n",
      "3 :\n"
     ]
    },
    {
     "name": "stderr",
     "output_type": "stream",
     "text": [
      "C:\\Users\\TNG\\Anaconda3\\lib\\site-packages\\sklearn\\neural_network\\multilayer_perceptron.py:566: ConvergenceWarning: Stochastic Optimizer: Maximum iterations (300) reached and the optimization hasn't converged yet.\n",
      "  % self.max_iter, ConvergenceWarning)\n"
     ]
    },
    {
     "name": "stdout",
     "output_type": "stream",
     "text": [
      "MLP Done\n",
      "RF Done\n"
     ]
    },
    {
     "name": "stderr",
     "output_type": "stream",
     "text": [
      "C:\\Users\\TNG\\Anaconda3\\lib\\site-packages\\sklearn\\linear_model\\logistic.py:432: FutureWarning: Default solver will be changed to 'lbfgs' in 0.22. Specify a solver to silence this warning.\n",
      "  FutureWarning)\n",
      "C:\\Users\\TNG\\Anaconda3\\lib\\site-packages\\sklearn\\linear_model\\logistic.py:469: FutureWarning: Default multi_class will be changed to 'auto' in 0.22. Specify the multi_class option to silence this warning.\n",
      "  \"this warning.\", FutureWarning)\n"
     ]
    },
    {
     "name": "stdout",
     "output_type": "stream",
     "text": [
      "LR Done\n",
      "KNN Done\n",
      "MLP F1:  0.6957789716039908\n",
      "RF F1:  0.6731389102072142\n",
      "LR F1:  0.6682463545663853\n",
      "KNN F1:  0.6854182655410591\n",
      "3  done, took  26.845238240559897  min\n",
      "**********************\n",
      "4 :\n"
     ]
    },
    {
     "name": "stderr",
     "output_type": "stream",
     "text": [
      "C:\\Users\\TNG\\Anaconda3\\lib\\site-packages\\sklearn\\neural_network\\multilayer_perceptron.py:566: ConvergenceWarning: Stochastic Optimizer: Maximum iterations (300) reached and the optimization hasn't converged yet.\n",
      "  % self.max_iter, ConvergenceWarning)\n"
     ]
    },
    {
     "name": "stdout",
     "output_type": "stream",
     "text": [
      "MLP Done\n",
      "RF Done\n"
     ]
    },
    {
     "name": "stderr",
     "output_type": "stream",
     "text": [
      "C:\\Users\\TNG\\Anaconda3\\lib\\site-packages\\sklearn\\linear_model\\logistic.py:432: FutureWarning: Default solver will be changed to 'lbfgs' in 0.22. Specify a solver to silence this warning.\n",
      "  FutureWarning)\n",
      "C:\\Users\\TNG\\Anaconda3\\lib\\site-packages\\sklearn\\linear_model\\logistic.py:469: FutureWarning: Default multi_class will be changed to 'auto' in 0.22. Specify the multi_class option to silence this warning.\n",
      "  \"this warning.\", FutureWarning)\n"
     ]
    },
    {
     "name": "stdout",
     "output_type": "stream",
     "text": [
      "LR Done\n",
      "KNN Done\n",
      "MLP F1:  0.6936684574059861\n",
      "RF F1:  0.6730046047582502\n",
      "LR F1:  0.6702033768227168\n",
      "KNN F1:  0.6880851880276285\n",
      "4  done, took  32.99758932987849  min\n",
      "**********************\n",
      "5 :\n"
     ]
    },
    {
     "name": "stderr",
     "output_type": "stream",
     "text": [
      "C:\\Users\\TNG\\Anaconda3\\lib\\site-packages\\sklearn\\neural_network\\multilayer_perceptron.py:566: ConvergenceWarning: Stochastic Optimizer: Maximum iterations (300) reached and the optimization hasn't converged yet.\n",
      "  % self.max_iter, ConvergenceWarning)\n"
     ]
    },
    {
     "name": "stdout",
     "output_type": "stream",
     "text": [
      "MLP Done\n",
      "RF Done\n"
     ]
    },
    {
     "name": "stderr",
     "output_type": "stream",
     "text": [
      "C:\\Users\\TNG\\Anaconda3\\lib\\site-packages\\sklearn\\linear_model\\logistic.py:432: FutureWarning: Default solver will be changed to 'lbfgs' in 0.22. Specify a solver to silence this warning.\n",
      "  FutureWarning)\n",
      "C:\\Users\\TNG\\Anaconda3\\lib\\site-packages\\sklearn\\linear_model\\logistic.py:469: FutureWarning: Default multi_class will be changed to 'auto' in 0.22. Specify the multi_class option to silence this warning.\n",
      "  \"this warning.\", FutureWarning)\n"
     ]
    },
    {
     "name": "stdout",
     "output_type": "stream",
     "text": [
      "LR Done\n",
      "KNN Done\n",
      "MLP F1:  0.6910974673829624\n",
      "RF F1:  0.6734842670759785\n",
      "LR F1:  0.6708940905602456\n",
      "KNN F1:  0.6855141980046048\n",
      "5  done, took  31.915700682004292  min\n",
      "**********************\n"
     ]
    }
   ],
   "source": [
    "kf = KFold(n_splits=cv)\n",
    "i = 1\n",
    "train_meta = pd.DataFrame(columns=['mlp', 'rf', 'logreg', 'neigh'], index=building_id)\n",
    "\n",
    "for train_idx, test_idx in kf.split(df):\n",
    "    \n",
    "    start = time.time()\n",
    "    \n",
    "    print(i, \":\")\n",
    "    train = df.iloc[train_idx].copy()\n",
    "    test = df.iloc[test_idx].copy()\n",
    "    \n",
    "    scaler = RobustScaler()\n",
    "    train[num_col] = scaler.fit_transform(train[num_col])\n",
    "    test[num_col] = scaler.transform(test[num_col])\n",
    "    \n",
    "    mlp.fit(train.iloc[:, :-1], train.iloc[:,-1])\n",
    "    print(\"MLP Done\")\n",
    "    rf.fit(train.iloc[:, :-1], train.iloc[:,-1])\n",
    "    print(\"RF Done\")\n",
    "    logreg.fit(train.iloc[:, :-1], train.iloc[:,-1])\n",
    "    print(\"LR Done\")\n",
    "    neigh.fit(train.iloc[:, :-1], train.iloc[:,-1])\n",
    "    print(\"KNN Done\")\n",
    "    \n",
    "    mlp_pred = mlp.predict(test.iloc[:,:-1]).reshape(-1,1)\n",
    "    rf_pred = rf.predict(test.iloc[:,:-1]).reshape(-1,1)\n",
    "    logreg_pred = logreg.predict(test.iloc[:,:-1]).reshape(-1,1)\n",
    "    neigh_pred = neigh.predict(test.iloc[:,:-1]).reshape(-1,1)\n",
    "    \n",
    "    print('MLP F1: ', f1_score(label.iloc[test_idx], mlp_pred, average='micro'))\n",
    "    print('RF F1: ', f1_score(label.iloc[test_idx], rf_pred, average='micro'))\n",
    "    print('LR F1: ', f1_score(label.iloc[test_idx], logreg_pred, average='micro'))\n",
    "    print('KNN F1: ', f1_score(label.iloc[test_idx], neigh_pred, average='micro'))\n",
    "    \n",
    "    print(i, ' done, took ', (time.time()-start)/60, ' min')\n",
    "    print('**********************')\n",
    "    i += 1\n",
    "    \n",
    "    train_meta.iloc[test_idx] = np.concatenate((mlp_pred, rf_pred, logreg_pred, neigh_pred), axis=1)"
   ]
  },
  {
   "cell_type": "code",
   "execution_count": 28,
   "metadata": {},
   "outputs": [
    {
     "data": {
      "text/html": [
       "<div>\n",
       "<style scoped>\n",
       "    .dataframe tbody tr th:only-of-type {\n",
       "        vertical-align: middle;\n",
       "    }\n",
       "\n",
       "    .dataframe tbody tr th {\n",
       "        vertical-align: top;\n",
       "    }\n",
       "\n",
       "    .dataframe thead th {\n",
       "        text-align: right;\n",
       "    }\n",
       "</style>\n",
       "<table border=\"1\" class=\"dataframe\">\n",
       "  <thead>\n",
       "    <tr style=\"text-align: right;\">\n",
       "      <th></th>\n",
       "      <th>mlp</th>\n",
       "      <th>rf</th>\n",
       "      <th>logreg</th>\n",
       "      <th>neigh</th>\n",
       "    </tr>\n",
       "    <tr>\n",
       "      <th>building_id</th>\n",
       "      <th></th>\n",
       "      <th></th>\n",
       "      <th></th>\n",
       "      <th></th>\n",
       "    </tr>\n",
       "  </thead>\n",
       "  <tbody>\n",
       "    <tr>\n",
       "      <td>802906</td>\n",
       "      <td>2</td>\n",
       "      <td>2</td>\n",
       "      <td>2</td>\n",
       "      <td>3</td>\n",
       "    </tr>\n",
       "    <tr>\n",
       "      <td>28830</td>\n",
       "      <td>3</td>\n",
       "      <td>3</td>\n",
       "      <td>3</td>\n",
       "      <td>3</td>\n",
       "    </tr>\n",
       "    <tr>\n",
       "      <td>94947</td>\n",
       "      <td>3</td>\n",
       "      <td>3</td>\n",
       "      <td>3</td>\n",
       "      <td>3</td>\n",
       "    </tr>\n",
       "    <tr>\n",
       "      <td>590882</td>\n",
       "      <td>2</td>\n",
       "      <td>2</td>\n",
       "      <td>2</td>\n",
       "      <td>2</td>\n",
       "    </tr>\n",
       "    <tr>\n",
       "      <td>201944</td>\n",
       "      <td>3</td>\n",
       "      <td>2</td>\n",
       "      <td>3</td>\n",
       "      <td>3</td>\n",
       "    </tr>\n",
       "    <tr>\n",
       "      <td>...</td>\n",
       "      <td>...</td>\n",
       "      <td>...</td>\n",
       "      <td>...</td>\n",
       "      <td>...</td>\n",
       "    </tr>\n",
       "    <tr>\n",
       "      <td>688636</td>\n",
       "      <td>2</td>\n",
       "      <td>2</td>\n",
       "      <td>2</td>\n",
       "      <td>2</td>\n",
       "    </tr>\n",
       "    <tr>\n",
       "      <td>669485</td>\n",
       "      <td>3</td>\n",
       "      <td>3</td>\n",
       "      <td>3</td>\n",
       "      <td>3</td>\n",
       "    </tr>\n",
       "    <tr>\n",
       "      <td>602512</td>\n",
       "      <td>3</td>\n",
       "      <td>3</td>\n",
       "      <td>3</td>\n",
       "      <td>3</td>\n",
       "    </tr>\n",
       "    <tr>\n",
       "      <td>151409</td>\n",
       "      <td>2</td>\n",
       "      <td>2</td>\n",
       "      <td>2</td>\n",
       "      <td>2</td>\n",
       "    </tr>\n",
       "    <tr>\n",
       "      <td>747594</td>\n",
       "      <td>3</td>\n",
       "      <td>3</td>\n",
       "      <td>2</td>\n",
       "      <td>3</td>\n",
       "    </tr>\n",
       "  </tbody>\n",
       "</table>\n",
       "<p>260601 rows × 4 columns</p>\n",
       "</div>"
      ],
      "text/plain": [
       "             mlp  rf  logreg  neigh\n",
       "building_id                        \n",
       "802906         2   2       2      3\n",
       "28830          3   3       3      3\n",
       "94947          3   3       3      3\n",
       "590882         2   2       2      2\n",
       "201944         3   2       3      3\n",
       "...          ...  ..     ...    ...\n",
       "688636         2   2       2      2\n",
       "669485         3   3       3      3\n",
       "602512         3   3       3      3\n",
       "151409         2   2       2      2\n",
       "747594         3   3       2      3\n",
       "\n",
       "[260601 rows x 4 columns]"
      ]
     },
     "execution_count": 28,
     "metadata": {},
     "output_type": "execute_result"
    }
   ],
   "source": [
    "train_meta.to_csv('train_meta.csv')\n",
    "train_meta"
   ]
  },
  {
   "cell_type": "code",
   "execution_count": 34,
   "metadata": {},
   "outputs": [
    {
     "data": {
      "text/plain": [
       "MLPClassifier(activation='logistic', alpha=0.0001, batch_size='auto',\n",
       "              beta_1=0.9, beta_2=0.999, early_stopping=False, epsilon=1e-08,\n",
       "              hidden_layer_sizes=(10, 5), learning_rate='constant',\n",
       "              learning_rate_init=0.001, max_iter=300, momentum=0.9,\n",
       "              n_iter_no_change=10, nesterovs_momentum=True, power_t=0.5,\n",
       "              random_state=None, shuffle=True, solver='sgd', tol=0.0001,\n",
       "              validation_fraction=0.1, verbose=False, warm_start=False)"
      ]
     },
     "execution_count": 34,
     "metadata": {},
     "output_type": "execute_result"
    }
   ],
   "source": [
    "df_meta = train_meta.join(label, on='building_id')\n",
    "meta.fit(df_meta.iloc[:,0:4], df_meta.iloc[:,-1])"
   ]
  },
  {
   "cell_type": "code",
   "execution_count": null,
   "metadata": {
    "scrolled": false
   },
   "outputs": [],
   "source": [
    "#Now retrain the base models and predict with the provided submit values\n",
    "\n",
    "submit = test_values.copy()\n",
    "X = df.copy()\n",
    "\n",
    "scaler = RobustScaler()\n",
    "X[num_col] = scaler.fit_transform(X[num_col])\n",
    "submit[num_col] = scaler.transform(submit[num_col])\n",
    "\n",
    "mlp.fit(X.iloc[:, :-1], X.iloc[:,-1])\n",
    "print(\"MLP Done\")\n",
    "rf.fit(X.iloc[:, :-1], X.iloc[:,-1])\n",
    "print(\"RF Done\")\n",
    "logreg.fit(X.iloc[:, :-1], X.iloc[:,-1])\n",
    "print(\"LR Done\")\n",
    "neigh.fit(X.iloc[:, :-1], X.iloc[:,-1])\n",
    "print(\"KNN Done\")"
   ]
  },
  {
   "cell_type": "code",
   "execution_count": 49,
   "metadata": {},
   "outputs": [],
   "source": [
    "mlp_pred = mlp.predict(submit).reshape(-1,1)\n",
    "rf_pred = rf.predict(submit).reshape(-1,1)\n",
    "logreg_pred = logreg.predict(submit).reshape(-1,1)\n",
    "neigh_pred = neigh.predict(submit).reshape(-1,1)"
   ]
  },
  {
   "cell_type": "code",
   "execution_count": 50,
   "metadata": {},
   "outputs": [],
   "source": [
    "to_submit = pd.DataFrame(columns=['mlp', 'rf', 'logreg', 'neigh'], index=submit.index)\n",
    "to_submit.iloc[:] = np.concatenate((mlp_pred, rf_pred, logreg_pred, neigh_pred), axis=1)"
   ]
  },
  {
   "cell_type": "code",
   "execution_count": 53,
   "metadata": {},
   "outputs": [],
   "source": [
    "final_pred = meta.predict(to_submit)"
   ]
  },
  {
   "cell_type": "code",
   "execution_count": 54,
   "metadata": {},
   "outputs": [],
   "source": [
    "to_excel = pd.DataFrame(columns=['damage_grade'], index=submit.index)\n",
    "to_excel['damage_grade'] = final_pred"
   ]
  },
  {
   "cell_type": "code",
   "execution_count": 56,
   "metadata": {},
   "outputs": [],
   "source": [
    "to_excel.to_csv('submission.csv')"
   ]
  },
  {
   "cell_type": "markdown",
   "metadata": {},
   "source": [
    "<h2>Try one-hot encode the train_meta data</h2>"
   ]
  },
  {
   "cell_type": "code",
   "execution_count": 64,
   "metadata": {},
   "outputs": [
    {
     "data": {
      "text/plain": [
       "MLPClassifier(activation='logistic', alpha=0.0001, batch_size='auto',\n",
       "              beta_1=0.9, beta_2=0.999, early_stopping=False, epsilon=1e-08,\n",
       "              hidden_layer_sizes=(10, 5), learning_rate='constant',\n",
       "              learning_rate_init=0.001, max_iter=300, momentum=0.9,\n",
       "              n_iter_no_change=10, nesterovs_momentum=True, power_t=0.5,\n",
       "              random_state=None, shuffle=True, solver='sgd', tol=0.0001,\n",
       "              validation_fraction=0.1, verbose=False, warm_start=False)"
      ]
     },
     "execution_count": 64,
     "metadata": {},
     "output_type": "execute_result"
    }
   ],
   "source": [
    "train_meta_hot = pd.get_dummies(df_meta, columns=['mlp', 'rf', 'logreg', 'neigh'], prefix=['mlp', 'rf', 'logreg', 'neigh'])\n",
    "meta.fit(train_meta_hot.iloc[:,1:], train_meta_hot.iloc[:,0])"
   ]
  },
  {
   "cell_type": "code",
   "execution_count": 66,
   "metadata": {},
   "outputs": [],
   "source": [
    "submit_hot = pd.get_dummies(to_submit, columns=['mlp', 'rf', 'logreg', 'neigh'], prefix=['mlp', 'rf', 'logreg', 'neigh'])\n",
    "final_pred = meta.predict(submit_hot)"
   ]
  },
  {
   "cell_type": "code",
   "execution_count": 68,
   "metadata": {},
   "outputs": [],
   "source": [
    "to_excel = pd.DataFrame(columns=['damage_grade'], index=submit.index)\n",
    "to_excel['damage_grade'] = final_pred\n",
    "to_excel.to_csv('submission.csv')"
   ]
  },
  {
   "cell_type": "markdown",
   "metadata": {},
   "source": [
    "<p> Not much difference: 0.6913, 0.6911. One-hot-encoding does not work. Overall performance increases slightly. Shows that stacking works, but more need to be done.</p>"
   ]
  },
  {
   "cell_type": "code",
   "execution_count": null,
   "metadata": {},
   "outputs": [],
   "source": []
  }
 ],
 "metadata": {
  "kernelspec": {
   "display_name": "Python 3",
   "language": "python",
   "name": "python3"
  },
  "language_info": {
   "codemirror_mode": {
    "name": "ipython",
    "version": 3
   },
   "file_extension": ".py",
   "mimetype": "text/x-python",
   "name": "python",
   "nbconvert_exporter": "python",
   "pygments_lexer": "ipython3",
   "version": "3.7.4"
  }
 },
 "nbformat": 4,
 "nbformat_minor": 2
}
